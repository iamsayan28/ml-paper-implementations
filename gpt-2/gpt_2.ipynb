{
  "nbformat": 4,
  "nbformat_minor": 0,
  "metadata": {
    "colab": {
      "provenance": [],
      "collapsed_sections": [
        "v9eHHCs4lJn_"
      ],
      "authorship_tag": "ABX9TyMdfx+cQT70D3YhfFX6Q2We",
      "include_colab_link": true
    },
    "kernelspec": {
      "name": "python3",
      "display_name": "Python 3"
    },
    "language_info": {
      "name": "python"
    }
  },
  "cells": [
    {
      "cell_type": "markdown",
      "metadata": {
        "id": "view-in-github",
        "colab_type": "text"
      },
      "source": [
        "<a href=\"https://colab.research.google.com/github/iamsayan28/ml-paper-implementations/blob/main/gpt-2/gpt_2.ipynb\" target=\"_parent\"><img src=\"https://colab.research.google.com/assets/colab-badge.svg\" alt=\"Open In Colab\"/></a>"
      ]
    },
    {
      "cell_type": "code",
      "source": [
        "import torch\n",
        "import torch.nn as nn\n",
        "import math\n",
        "\n",
        "from torch.utils.data import DataLoader, Dataset\n",
        "from torch.optim import AdamW\n",
        "from torch.cuda.amp import autocast, GradScaler\n",
        "from transformers import GPT2Tokenizer\n",
        "\n",
        "from datasets import load_dataset\n",
        "\n",
        "import os\n",
        "import glob"
      ],
      "metadata": {
        "id": "vuRCup0xY1xM"
      },
      "execution_count": null,
      "outputs": []
    },
    {
      "cell_type": "code",
      "source": [
        "device = 'cuda' if torch.cuda.is_available() else 'cpu'\n",
        "device"
      ],
      "metadata": {
        "id": "4h0IdpKGQzE-"
      },
      "execution_count": null,
      "outputs": []
    },
    {
      "cell_type": "markdown",
      "source": [
        "### GPT-2 config"
      ],
      "metadata": {
        "id": "aF2K5Nva8TK6"
      }
    },
    {
      "cell_type": "code",
      "source": [
        "# need to scale down the numbers to be able to train it in colab within reasonable time\n",
        "\n",
        "config = {\n",
        "    \"vocab_size\": 50257,\n",
        "    \"context_length\": 512,\n",
        "    \"emb_dim\": 768,\n",
        "    \"n_heads\": 12,\n",
        "    \"n_layers\": 12,\n",
        "    \"drop_rate\": 0.1,\n",
        "    \"qkv_bias\": False\n",
        "}\n"
      ],
      "metadata": {
        "id": "p6JrMYMC8SvX"
      },
      "execution_count": null,
      "outputs": []
    },
    {
      "cell_type": "markdown",
      "source": [
        "### Load the data"
      ],
      "metadata": {
        "id": "6wyohD69I4h2"
      }
    },
    {
      "cell_type": "code",
      "source": [
        "from datasets import load_dataset\n",
        "\n",
        "dataset = load_dataset(\"roneneldan/TinyStories\", split=\"train[:10%]\")\n",
        "dataset"
      ],
      "metadata": {
        "id": "aH-WHOTBNFfn"
      },
      "execution_count": null,
      "outputs": []
    },
    {
      "cell_type": "markdown",
      "source": [
        "### Tokenization\n",
        "\n"
      ],
      "metadata": {
        "id": "v9eHHCs4lJn_"
      }
    },
    {
      "cell_type": "markdown",
      "source": [
        "Define the tokenizer and tokenize the dataset"
      ],
      "metadata": {
        "id": "-LpU8eLiMsvY"
      }
    },
    {
      "cell_type": "code",
      "source": [
        "tokenizer = GPT2Tokenizer.from_pretrained(\"gpt2\")\n",
        "tokenizer.pad_token = tokenizer.eos_token\n",
        "tokenizer.vocab_size"
      ],
      "metadata": {
        "id": "qAdkT9Yp-IGu"
      },
      "execution_count": null,
      "outputs": []
    },
    {
      "cell_type": "code",
      "source": [
        "def tokenizer_function(dataset):\n",
        "  output = tokenizer(\n",
        "      dataset['text'],\n",
        "      truncation = True,\n",
        "      max_length = 256,\n",
        "      padding = \"max_length\",\n",
        "      # return_tensors = 'pt' # Remove this\n",
        "  )\n",
        "\n",
        "  return output\n",
        "# dataset has a text col which we tokenize on the text and then remove the col text and in place we have input_ids column created by the tokenizer(from the transformers lib) which\n",
        "# has all the token ids present\n",
        "tokenized_dataset = dataset.map(tokenizer_function, batched = True, remove_columns=['text'])"
      ],
      "metadata": {
        "id": "LkswnOnb_WiJ"
      },
      "execution_count": null,
      "outputs": []
    },
    {
      "cell_type": "code",
      "source": [
        "def create_labels(dataset):\n",
        "  # dataset['labels'] = dataset['input_ids'].clone() # This was causing the error\n",
        "  # dataset['labels'] = [tensor.clone() for tensor in dataset['input_ids']] # Previous fix attempt\n",
        "  # Assuming dataset['input_ids'] is a list of lists of integers from the tokenizer\n",
        "  input_ids_list = dataset['input_ids']\n",
        "  # Convert the list of lists to a tensor\n",
        "  input_ids_tensor = torch.tensor(input_ids_list)\n",
        "  # Clone the tensor to create labels\n",
        "  dataset['labels'] = input_ids_tensor.clone()\n",
        "  return dataset\n",
        "\n",
        "tokenized_dataset = tokenized_dataset.map(create_labels, batched = True)\n",
        "tokenized_dataset.set_format(type='torch', columns=['input_ids', 'attention_mask', 'labels'])\n",
        "tokenized_dataset"
      ],
      "metadata": {
        "id": "bavXf6aFKyQW"
      },
      "execution_count": null,
      "outputs": []
    },
    {
      "cell_type": "code",
      "source": [
        "train_loader = DataLoader(tokenized_dataset, batch_size = 16, shuffle = True)\n",
        "len(train_loader)"
      ],
      "metadata": {
        "id": "Q6vyAI-z_fuD"
      },
      "execution_count": null,
      "outputs": []
    },
    {
      "cell_type": "code",
      "source": [
        "def analyze_token_distribution(data_loader):\n",
        "    all_token_counts = []\n",
        "\n",
        "    for batch in data_loader:\n",
        "        token_counts = batch['attention_mask'].sum(dim=1)\n",
        "        all_token_counts.extend(token_counts.tolist())\n",
        "\n",
        "    all_token_counts = torch.tensor(all_token_counts)\n",
        "\n",
        "    print(f\"Dataset token statistics:\")\n",
        "    print(f\"Total sequences: {len(all_token_counts)}\")\n",
        "    print(f\"Min tokens: {all_token_counts.min()}\")\n",
        "    print(f\"Max tokens: {all_token_counts.max()}\")\n",
        "    print(f\"Mean tokens: {all_token_counts.float().mean():.2f}\")\n",
        "    print(f\"Median tokens: {all_token_counts.median()}\")\n",
        "\n",
        "    # Show distribution\n",
        "    import matplotlib.pyplot as plt\n",
        "    plt.hist(all_token_counts.numpy(), bins=50)\n",
        "    plt.xlabel('Number of actual tokens')\n",
        "    plt.ylabel('Frequency')\n",
        "    plt.title('Distribution of actual token counts')\n",
        "    plt.show()\n",
        "\n",
        "analyze_token_distribution(train_loader)"
      ],
      "metadata": {
        "id": "TcDXNGbjhENG"
      },
      "execution_count": null,
      "outputs": []
    },
    {
      "cell_type": "markdown",
      "source": [
        "### Input Embedding"
      ],
      "metadata": {
        "id": "sscNGwEEYTBs"
      }
    },
    {
      "cell_type": "markdown",
      "source": [
        "![{32EA18DB-54D1-425B-8321-CD3C0528AD4B}.png](data:image/png;base64,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)"
      ],
      "metadata": {
        "id": "QrhZwjvwbf4i"
      }
    },
    {
      "cell_type": "code",
      "source": [
        "class Embedding(nn.Module):\n",
        "  def __init__(self, vocab_size, d_model):\n",
        "    super().__init__();\n",
        "    self.embedding = nn.Embedding(vocab_size, d_model)\n",
        "\n",
        "  def forward(self, x):\n",
        "    # x -> (batch size, seq_len), each batch size has seq_len no of token ids\n",
        "    return self.embedding(x)\n",
        "\n",
        "\n",
        "embedding = Embedding(config[\"vocab_size\"], config[\"emb_dim\"])\n",
        "input_ids = torch.randint(0, config[\"vocab_size\"], (2, 256))\n",
        "print(input_ids.shape)\n",
        "embedding_output = embedding(input_ids)\n",
        "print(embedding_output.shape) # -> (batch size, seq_len, d_model)\n",
        "assert embedding_output.shape == (2, 256, config['emb_dim']), \"Embedding shape mismatch\""
      ],
      "metadata": {
        "id": "GmvFILIpOevW"
      },
      "execution_count": null,
      "outputs": []
    },
    {
      "cell_type": "markdown",
      "source": [
        "### Positional Encoding > MHA > LN > FFNN"
      ],
      "metadata": {
        "id": "J1Sg9TMbb0vY"
      }
    },
    {
      "cell_type": "code",
      "source": [
        "class PositionalEmbedding(nn.Module):\n",
        "  def __init__(self, seq_len, d_model):\n",
        "    super().__init__()\n",
        "    # pe = nn.Embedding(seq_len, d_model)\n",
        "\n",
        "    pe = torch.zeros(seq_len, d_model)\n",
        "    pos = torch.arange(0, seq_len).unsqueeze(1) # (seq_len,) -> (seq_len, 1)\n",
        "    denom = torch.exp(torch.arange(0,d_model,2) * (math.log(10000)/d_model)).unsqueeze(0)  # (d_model/2,) -> (1, d_model/2)\n",
        "    pe[:,0::2] = torch.sin(pos * denom)\n",
        "    pe[:,1::2] = torch.cos(pos * denom)\n",
        "    pe = pe.unsqueeze(0)\n",
        "    self.register_buffer('pe', pe)\n",
        "\n",
        "    # problem resolved: was doing pe = torch.zeros(seq_len, d_model).unsqueeze(0) before which resulted (1,seq_len,d_model), and later doing (pos * denom) operation resulted in (seq_len, d_model),\n",
        "    # removing unsqueeze(0) from pe solved the issue. pe[:,0::2] has a different shape from the situation like (1,seq,d_model) which has 3 dims. Also writing pe.unsqueeze(0) is diff from pe = pe.unsqueeze(0).\n",
        "\n",
        "  def forward(self, x):\n",
        "    # x -> (batch, seq_len, d_model)\n",
        "    # pe -> (1, seq_len, d_model)\n",
        "    # return x + self.pe (error!)\n",
        "    # -> The error occurs because the fixed-size positional embedding tensor is being added to an input tensor that has a different sequence length. To fix this, we need to modify\n",
        "    # the PositionalEmbedding layer so that it can dynamically select the correct portion of the pre-computed positional encoding to match the current input sequence length.\n",
        "\n",
        "    return x + self.pe[:, :x.size(1), :]\n",
        "\n",
        "pe = PositionalEmbedding(config[\"context_length\"], config['emb_dim'])\n",
        "pe_output = pe(embedding_output)\n",
        "assert pe_output.shape == embedding_output.shape, \"Positional Encoding shape mismatch\"\n",
        "print(pe_output.shape)"
      ],
      "metadata": {
        "id": "Q4daQNrRO7nX"
      },
      "execution_count": null,
      "outputs": []
    },
    {
      "cell_type": "code",
      "source": [
        "class MultiHeadAttention(nn.Module):\n",
        "\n",
        "  def __init__(self, d_model, num_heads, qkv_bias = False):\n",
        "    super().__init__()\n",
        "    self.d_model = d_model\n",
        "    self.num_heads = num_heads\n",
        "    self.head_dim = d_model // num_heads\n",
        "\n",
        "    self.query = nn.Linear(d_model, d_model, qkv_bias)\n",
        "    self.key = nn.Linear(d_model, d_model, qkv_bias)\n",
        "    self.value = nn.Linear(d_model, d_model, qkv_bias)\n",
        "    self.out = nn.Linear(d_model, d_model, qkv_bias)\n",
        "\n",
        "  def forward(self, x, mask = None):\n",
        "    # x -> (batch size, seq len, d_model)\n",
        "    q = self.query(x).view(x.shape[0], x.shape[1], self.num_heads, self.head_dim).transpose(1, 2)\n",
        "    k = self.key(x).view(x.shape[0], x.shape[1], self.num_heads, self.head_dim).transpose(1, 2)\n",
        "    v = self.value(x).view(x.shape[0], x.shape[1], self.num_heads, self.head_dim).transpose(1, 2)\n",
        "    # q,k,v = (batch, num_heads, seq, head_dim)\n",
        "\n",
        "\n",
        "    attention_scores = torch.matmul(q, k.transpose(-1, -2)) / math.sqrt(self.head_dim)\n",
        "    # attention_scores -> (batch, num_heads, seq_len, seq_len)\n",
        "\n",
        "    if mask is not None:\n",
        "      attention_scores = attention_scores.masked_fill(mask == 0, 1e-9)\n",
        "    attention_scores.softmax(dim = -1)\n",
        "    attention = torch.matmul(attention_scores, v) # (batch, num_heads, seq_len, seq_len).(batch, num_heads, seq_len, head_dim) = (batch, num_heads, seq_len, head_dim)\n",
        "\n",
        "    final_form = attention.transpose(2,1).contiguous().view(x.shape[0], x.shape[1], -1)\n",
        "\n",
        "    return self.out(final_form)\n",
        "\n",
        "mha = MultiHeadAttention(config['emb_dim'], config['n_heads'])\n",
        "mha_output = mha(pe_output)\n",
        "assert mha_output.shape == pe_output.shape, print(\"Shape mismatch\")\n",
        "print(mha_output.shape)"
      ],
      "metadata": {
        "id": "fgL8ccUQa6vn"
      },
      "execution_count": null,
      "outputs": []
    },
    {
      "cell_type": "code",
      "source": [
        "class LayerNormalization(nn.Module):\n",
        "\n",
        "  def __init__(self, d_model, eps = 1e-5):\n",
        "    super().__init__()\n",
        "    self.eps = eps\n",
        "    self.alpha = nn.Parameter(torch.ones(d_model))\n",
        "    self.beta = nn.Parameter(torch.zeros(d_model))\n",
        "\n",
        "  def forward(self, x):\n",
        "    mean = x.mean(dim = -1, keepdim = True)\n",
        "    std = x.std(dim = -1, keepdim = True, unbiased=False)\n",
        "    norm_x = (x - mean)/(std + self.eps)\n",
        "    return self.alpha * norm_x + self.beta\n",
        "\n",
        "layernorm = LayerNormalization(config['emb_dim'])\n",
        "layernorm_output = layernorm(mha_output)\n",
        "assert layernorm_output.shape == mha_output.shape, print(\"Shape mismatch boi, time to fix this shit\")\n",
        "print(layernorm_output.shape)"
      ],
      "metadata": {
        "id": "2BweZoNdwF3k"
      },
      "execution_count": null,
      "outputs": []
    },
    {
      "cell_type": "code",
      "source": [
        "class FeedForwardNetwork(nn.Module):\n",
        "\n",
        "  def __init__(self, d_model, ffnn_hidden_size):\n",
        "    super().__init__()\n",
        "    self.ffnn1 = nn.Linear(d_model, ffnn_hidden_size)\n",
        "    self.ffnn2 = nn.Linear(ffnn_hidden_size, d_model)\n",
        "    self.act = nn.GELU()\n",
        "\n",
        "  def forward(self, x):\n",
        "    return self.ffnn2(self.act(self.ffnn1(x)))\n",
        "\n",
        "hidden_size = config['emb_dim'] * 4\n",
        "ffnn = FeedForwardNetwork(config['emb_dim'], hidden_size)\n",
        "ffnn_output = ffnn(layernorm_output)\n",
        "assert layernorm_output.shape == ffnn_output.shape, print(\"Shape mismatch boi, time to fix this shit\")\n",
        "print(ffnn_output.shape)"
      ],
      "metadata": {
        "id": "-vNJMfCu1FGG"
      },
      "execution_count": null,
      "outputs": []
    },
    {
      "cell_type": "markdown",
      "source": [
        "### Transformer Block"
      ],
      "metadata": {
        "id": "vnv7zhDTAn9y"
      }
    },
    {
      "cell_type": "code",
      "source": [
        "class TransformerBlock(nn.Module):\n",
        "\n",
        "  def __init__(self, d_model, num_heads, ff_hidden_size, dropout = 0.1, qkv_bias = False):\n",
        "    super().__init__()\n",
        "    self.mha = MultiHeadAttention(d_model, num_heads, qkv_bias)\n",
        "    self.ln1 = LayerNormalization(d_model)\n",
        "    self.ln2 = LayerNormalization(d_model)\n",
        "    self.ffnn = FeedForwardNetwork(d_model, ff_hidden_size)\n",
        "    self.dropout = nn.Dropout(dropout)\n",
        "\n",
        "  def forward(self, x, mask = None):\n",
        "    # x as the output of the pe\n",
        "    mha_output = x + self.dropout(self.mha(self.ln1(x)))\n",
        "    ffnn_output = mha_output + self.dropout(self.ffnn(self.ln2(mha_output)))\n",
        "    return ffnn_output\n",
        "\n",
        "transformer = TransformerBlock(config['emb_dim'], config['n_heads'], hidden_size)\n",
        "transformer_output = transformer(pe_output)\n",
        "assert transformer_output.shape == pe_output.shape, print(\"Shape mismatch\")\n",
        "print(transformer_output.shape)"
      ],
      "metadata": {
        "id": "9ljx75eTAlgE"
      },
      "execution_count": null,
      "outputs": []
    },
    {
      "cell_type": "code",
      "source": [
        "class GPT_2(nn.Module):\n",
        "\n",
        "  def __init__(self, config):\n",
        "    super().__init__()\n",
        "    self.input_embedding = Embedding(config[\"vocab_size\"], config[\"emb_dim\"])\n",
        "    self.pos_embedding = PositionalEmbedding(config[\"context_length\"], config['emb_dim'])\n",
        "    self.transformer_block = nn.ModuleList([TransformerBlock(config['emb_dim'], config['n_heads'], 4 * config['emb_dim'], config['qkv_bias']) for _ in range(config['n_layers'])])\n",
        "    self.fc_out = nn.Linear(config['emb_dim'], config['vocab_size'], bias = False) # now input emb and fc_out has the same no of params since no bias is taken into acc\n",
        "    self.dropout = nn.Dropout(config['drop_rate'])\n",
        "    self.fc_out.weight = self.input_embedding.embedding.weight\n",
        "\n",
        "  def forward(self, x, mask = None):\n",
        "    x = self.dropout(self.pos_embedding(self.input_embedding(x)))\n",
        "    # x -> (batch size, seq len, d_model)\n",
        "    for block in self.transformer_block:\n",
        "      x = block(x, mask)\n",
        "    # (batch size, seq len, d_model) -> (batch size, seq len, vocab_size)\n",
        "    return self.fc_out(x)\n",
        "\n",
        "model = GPT_2(config)\n",
        "input_ids = torch.randint(0, config[\"vocab_size\"], (2, 256)) #(batch size = 2, seq len = 10)\n",
        "model_output = model(input_ids)\n",
        "print(model_output.shape)"
      ],
      "metadata": {
        "id": "zb8-5--n-_uB"
      },
      "execution_count": null,
      "outputs": []
    },
    {
      "cell_type": "markdown",
      "source": [
        "### No. of parameters"
      ],
      "metadata": {
        "id": "RMYqkUFcNIuI"
      }
    },
    {
      "cell_type": "code",
      "source": [
        "total_params = sum(p.numel() for p in model.parameters())\n",
        "print(f\"Total number of parameters: {total_params:,}\")"
      ],
      "metadata": {
        "id": "jMcMxhxpOFPG"
      },
      "execution_count": null,
      "outputs": []
    },
    {
      "cell_type": "code",
      "source": [
        "total_size_bytes = total_params * 4\n",
        "total_size_bytes / (1024 * 1024)"
      ],
      "metadata": {
        "id": "MJMaq-2SL2fv"
      },
      "execution_count": null,
      "outputs": []
    },
    {
      "cell_type": "markdown",
      "source": [
        "### Training"
      ],
      "metadata": {
        "id": "NbLYJvN_NV92"
      }
    },
    {
      "cell_type": "code",
      "source": [
        "from google.colab import drive\n",
        "drive.mount('/content/drive', force_remount=True)"
      ],
      "metadata": {
        "id": "tqtQoSLCJOLp"
      },
      "execution_count": null,
      "outputs": []
    },
    {
      "cell_type": "code",
      "source": [
        "checkpoint_dir = '/content/drive/MyDrive/paper-impl/gpt-2/checkpoints'\n",
        "os.makedirs(checkpoint_dir, exist_ok=True)\n",
        "print(f\"Checkpoints will be saved to: {checkpoint_dir}\")"
      ],
      "metadata": {
        "id": "KrJ0kabSLnTH"
      },
      "execution_count": null,
      "outputs": []
    },
    {
      "cell_type": "code",
      "source": [
        "model = GPT_2(config).to(device)\n",
        "optimizer = AdamW(model.parameters(), lr=5e-5, betas=(0.9, 0.95), weight_decay=0.1)\n",
        "scaler = GradScaler()\n",
        "loss_fn = nn.CrossEntropyLoss()\n",
        "epochs = 10\n",
        "\n",
        "resume_training = True\n",
        "start_epoch = 0\n",
        "checkpoint_path = None\n",
        "if resume_training and os.path.exists(checkpoint_dir):\n",
        "    checkpoint_files = glob.glob(os.path.join(checkpoint_dir, \"*.pth\"))\n",
        "    if checkpoint_files:\n",
        "        checkpoint_files.sort(key=lambda x: int(x.split('_')[-1].split('.')[0]))\n",
        "        checkpoint_path = checkpoint_files[-1]\n",
        "if checkpoint_path:\n",
        "    print(f\"Loading latest checkpoint from {checkpoint_path}...\")\n",
        "    checkpoint = torch.load(checkpoint_path, map_location=device)\n",
        "    model.load_state_dict(checkpoint['model_state_dict'])\n",
        "    optimizer.load_state_dict(checkpoint['optimizer_state_dict'])\n",
        "    scaler.load_state_dict(checkpoint['scaler_state_dict'])\n",
        "    start_epoch = checkpoint['epoch'] + 1\n",
        "    last_loss = checkpoint['loss']\n",
        "    print(f\"Resuming training from epoch {start_epoch} with loss {last_loss:.4f}\")\n",
        "else:\n",
        "    print(\"No checkpoint found. Starting training from scratch.\")\n",
        "\n",
        "\n",
        "for epoch in range(start_epoch, epochs):\n",
        "  print(f\"epoch {epoch}---\")\n",
        "  last_loss = 0.0\n",
        "  for i, batch in enumerate(train_loader):\n",
        "        input_ids = batch['input_ids'].to(device)\n",
        "        labels = batch['labels'].to(device)\n",
        "\n",
        "        optimizer.zero_grad()\n",
        "        with autocast(enabled=(device == 'cuda')):\n",
        "            logits = model(input_ids) # (batch, seq_len, vocab_size)\n",
        "            loss = loss_fn(logits.view(-1, logits.shape[-1]), labels.view(-1))\n",
        "\n",
        "        scaler.scale(loss).backward()\n",
        "\n",
        "        torch.nn.utils.clip_grad_norm_(model.parameters(), 1.0)\n",
        "        scaler.step(optimizer)\n",
        "        scaler.update()\n",
        "\n",
        "        last_loss = loss.item()\n",
        "\n",
        "        if i % 100 == 0:\n",
        "            print(f\"  Batch {i}/{len(train_loader)}, Loss: {loss.item():.4f}\")\n",
        "\n",
        "  # checkpoint\n",
        "  if (epoch + 1) % 1 == 0:\n",
        "    checkpoint_path = os.path.join(checkpoint_dir, f\"model_epoch_{epoch + 1}.pth\")\n",
        "    print(f\"Saving checkpoint to {checkpoint_path}...\")\n",
        "\n",
        "    checkpoint = {\n",
        "        'epoch': epoch,\n",
        "        'model_state_dict': model.state_dict(),\n",
        "        'optimizer_state_dict': optimizer.state_dict(),\n",
        "        'scaler_state_dict': scaler.state_dict(),\n",
        "        'loss': last_loss,\n",
        "    }\n",
        "    torch.save(checkpoint, checkpoint_path)\n",
        "    print(\"Checkpoint saved successfully.\")"
      ],
      "metadata": {
        "id": "FyWSTbiDNBp9"
      },
      "execution_count": null,
      "outputs": []
    },
    {
      "cell_type": "code",
      "source": [
        "import torch\n",
        "import torch.nn.functional as F\n",
        "\n",
        "def generate_text(model, tokenizer, prompt, max_new_tokens=100, context_length=256, device='cuda'):\n",
        "    model.eval()\n",
        "    input_ids = tokenizer.encode(prompt, return_tensors='pt').to(device)\n",
        "    print(f\"Generating from prompt: '{prompt}'\")\n",
        "    with torch.no_grad():\n",
        "        for _ in range(max_new_tokens):\n",
        "            input_ids_cond = input_ids[:, -context_length:]\n",
        "            logits = model(input_ids_cond) # (B, T, vocab_size)\n",
        "\n",
        "            logits = logits[:, -1, :] # (B, vocab_size)\n",
        "\n",
        "            probs = F.softmax(logits, dim=-1)\n",
        "            next_token_id = torch.multinomial(probs, num_samples=1) # Shape: (B, 1)\n",
        "            input_ids = torch.cat((input_ids, next_token_id), dim=1)\n",
        "    generated_text = tokenizer.decode(input_ids[0], skip_special_tokens=True)\n",
        "    model.train()\n",
        "    return generated_text\n",
        "\n",
        "prompt = \"Once upon a time\"\n",
        "output = generate_text(model, tokenizer, prompt, max_new_tokens=50, device=device)\n",
        "print(output)"
      ],
      "metadata": {
        "id": "9s7VJdrnRQWx"
      },
      "execution_count": null,
      "outputs": []
    }
  ]
}